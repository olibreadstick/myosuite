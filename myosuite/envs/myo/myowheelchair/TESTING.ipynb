{
 "cells": [
  {
   "cell_type": "markdown",
   "metadata": {},
   "source": [
    "# TESTING ENVS"
   ]
  },
  {
   "cell_type": "code",
   "execution_count": 9,
   "metadata": {},
   "outputs": [],
   "source": [
    "from myosuite.utils import gym\n",
    "import skvideo.io\n",
    "import numpy as np\n",
    "import os\n",
    "from stable_baselines3 import PPO\n",
    "from tqdm.notebook import tqdm"
   ]
  },
  {
   "cell_type": "code",
   "execution_count": null,
   "metadata": {},
   "outputs": [],
   "source": [
    "from IPython.display import HTML\n",
    "from base64 import b64encode\n",
    " \n",
    "def show_video(video_path, video_width = 400):\n",
    "   \n",
    "  video_file = open(video_path, \"r+b\").read()\n",
    " \n",
    "  video_url = f\"data:video/mp4;base64,{b64encode(video_file).decode()}\"\n",
    "  return HTML(f\"\"\"<video autoplay width={video_width} controls><source src=\"{video_url}\"></video>\"\"\")\n",
    " "
   ]
  },
  {
   "cell_type": "code",
   "execution_count": 10,
   "metadata": {},
   "outputs": [
    {
     "data": {
      "text/plain": [
       "(array([ 0.    ,  0.0339,  0.0229, -0.011 , -0.465 ,  0.1272, -0.0095,\n",
       "         0.    , -0.152 ,  0.5833,  0.    , -0.552 , -0.3131,  0.    ,\n",
       "        -0.2639,  0.4085, -0.37  ,  2.094 ,  1.0778,  0.11  ,  0.4363,\n",
       "        -0.7854,  0.78  , -0.6246,  0.1937,  0.0087,  1.1704,  0.2356,\n",
       "         0.8955,  1.3432,  1.461 ,  0.0105,  0.7384,  1.1625,  1.3354,\n",
       "        -0.1545,  0.1414,  1.571 ,  1.2411, -0.2618,  0.4477,  0.597 ,\n",
       "         0.    ,  0.    ,  0.    ,  0.    ,  0.    ,  0.    ,  0.    ,\n",
       "         0.    ,  0.    ,  0.    ,  0.    ,  0.    ,  0.    ,  0.    ,\n",
       "         0.    ,  0.    ,  0.    ,  0.    ,  0.    ,  0.    ,  0.    ,\n",
       "         0.    ,  0.    ,  0.    ,  0.    ,  0.    ,  0.    ,  0.    ,\n",
       "         0.    ,  0.    ,  0.    ,  0.    ,  0.    ,  0.    ,  0.    ,\n",
       "         0.    ,  0.    ,  0.    ,  0.    ,  0.    ,  0.    ,  0.    ,\n",
       "         0.    ,  0.    ,  0.    ,  0.    ,  0.    ,  0.    ,  0.    ,\n",
       "         0.    ,  0.    ,  0.    ,  0.    ,  0.    ,  0.    ,  0.    ,\n",
       "         0.    ,  0.    ,  0.    ,  0.    ,  0.    ,  0.    ,  0.    ,\n",
       "         0.    ,  0.    ,  0.    ,  0.    ,  0.    ,  0.    ,  0.    ,\n",
       "         0.    ,  0.    ,  0.    ,  0.    ,  0.    ,  0.    ,  0.    ,\n",
       "         0.    ,  0.    ,  0.    ,  0.    ,  0.    ,  0.    ,  0.    ,\n",
       "         0.    ,  0.    ,  0.    ,  0.    ,  0.    ,  0.    ,  0.    ,\n",
       "         0.    ,  0.    ,  0.    ,  0.    ,  0.    ,  0.    ,  0.    ,\n",
       "         0.    ,  0.    ,  0.    ], dtype=float32),\n",
       " {})"
      ]
     },
     "execution_count": 10,
     "metadata": {},
     "output_type": "execute_result"
    }
   ],
   "source": [
    "env = gym.make('myoHandWheelHoldFixed-v0')\n",
    "env.reset()"
   ]
  },
  {
   "cell_type": "code",
   "execution_count": null,
   "metadata": {},
   "outputs": [],
   "source": [
    "model = PPO(\"MlpPolicy\", env, verbose=0)"
   ]
  },
  {
   "cell_type": "code",
   "execution_count": null,
   "metadata": {},
   "outputs": [],
   "source": [
    "model.learn(total_timesteps=1e4)\n",
    "# to train to convergence use more iterations e.g.\n",
    "# model.learn(total_timesteps=1e7)"
   ]
  },
  {
   "cell_type": "code",
   "execution_count": null,
   "metadata": {},
   "outputs": [],
   "source": [
    "model.save(\"WheelDist_policy\")"
   ]
  },
  {
   "cell_type": "code",
   "execution_count": null,
   "metadata": {},
   "outputs": [],
   "source": [
    "# env.sim.renderer.set_viewer_settings(\n",
    "#            render_actuator=True,\n",
    "#            render_tendon=True\n",
    "#        )\n",
    "\n",
    "pi = PPO.load(\"WheelDist_policy\")\n",
    "\n",
    "env = gym.make('myoHandWheelHoldFixed-v0')\n",
    "env.reset()"
   ]
  },
  {
   "cell_type": "code",
   "execution_count": null,
   "metadata": {},
   "outputs": [],
   "source": [
    "# render\n",
    "env.reset()\n",
    "frames = []\n",
    "for _ in range(300):\n",
    "    frames.append(env.sim.renderer.render_offscreen(width=400, height=400, camera_id=3))\n",
    "    o = env.get_obs()\n",
    "    a = pi.predict(o)[0]\n",
    "    next_o, r, done, *_, ifo = env.step(\n",
    "        a\n",
    "    )  # take an action based on the current observation\n",
    "\n",
    "import skvideo.io\n",
    "import os\n",
    "os.makedirs(\"videos\", exist_ok=True)\n",
    "# make a local copy\n",
    "skvideo.io.vwrite(\n",
    "    \"videos/RockPose.mp4\",\n",
    "    np.asarray(frames),\n",
    "    outputdict={\"-pix_fmt\": \"yuv420p\", \"-r\": \"10\"},\n",
    ")\n",
    "show_video('videos/RockPose.mp4')"
   ]
  },
  {
   "cell_type": "code",
   "execution_count": null,
   "metadata": {},
   "outputs": [],
   "source": [
    "# evaluate policy\n",
    "all_rewards = []\n",
    "for _ in tqdm(range(5)): # 5 random targets\n",
    "  ep_rewards = []\n",
    "  done = False\n",
    "  obs = env.reset()\n",
    "  done = False\n",
    "  for _ in range(100):\n",
    "      obs = env.obsdict2obsvec(env.obs_dict, env.obs_keys)[1]\n",
    "      # get the next action from the policy\n",
    "      action, _ = model.predict(obs, deterministic=True)\n",
    "      # take an action based on the current observation\n",
    "      obs, reward, done, info, _ = env.step(action)\n",
    "      ep_rewards.append(reward)\n",
    "  all_rewards.append(np.sum(ep_rewards))\n",
    "print(f\"Average reward: {np.mean(all_rewards)} over 5 episodes\")\n",
    "all_rewards"
   ]
  },
  {
   "cell_type": "markdown",
   "metadata": {},
   "source": [
    "# Python testing"
   ]
  },
  {
   "cell_type": "code",
   "execution_count": 7,
   "metadata": {},
   "outputs": [],
   "source": [
    "import mujoco"
   ]
  },
  {
   "cell_type": "code",
   "execution_count": 4,
   "metadata": {},
   "outputs": [],
   "source": [
    "model = mujoco.MjModel.from_xml_path(\"../assets/wheelchair/myowc+arm.xml\")\n",
    "data = mujoco.MjData(model)"
   ]
  },
  {
   "cell_type": "code",
   "execution_count": 5,
   "metadata": {},
   "outputs": [
    {
     "ename": "AttributeError",
     "evalue": "'mujoco._structs.MjModel' object has no attribute 'joint_name2id'",
     "output_type": "error",
     "traceback": [
      "\u001b[1;31m---------------------------------------------------------------------------\u001b[0m",
      "\u001b[1;31mAttributeError\u001b[0m                            Traceback (most recent call last)",
      "Cell \u001b[1;32mIn[5], line 1\u001b[0m\n\u001b[1;32m----> 1\u001b[0m data\u001b[38;5;241m.\u001b[39mqpos[\u001b[43mmodel\u001b[49m\u001b[38;5;241;43m.\u001b[39;49m\u001b[43mjoint_name2id\u001b[49m(\u001b[38;5;124m\"\u001b[39m\u001b[38;5;124mright_rear\u001b[39m\u001b[38;5;124m\"\u001b[39m)]\n",
      "\u001b[1;31mAttributeError\u001b[0m: 'mujoco._structs.MjModel' object has no attribute 'joint_name2id'"
     ]
    }
   ],
   "source": [
    "data.qpos[model.joint_name2id(\"right_rear\")]"
   ]
  },
  {
   "cell_type": "code",
   "execution_count": null,
   "metadata": {},
   "outputs": [],
   "source": [
    "model.ngeom"
   ]
  },
  {
   "cell_type": "code",
   "execution_count": null,
   "metadata": {},
   "outputs": [],
   "source": [
    "model.geom_rgba"
   ]
  },
  {
   "cell_type": "code",
   "execution_count": null,
   "metadata": {},
   "outputs": [],
   "source": [
    "[model.geom(i).name for i in range(model.ngeom)]"
   ]
  },
  {
   "cell_type": "markdown",
   "metadata": {},
   "source": [
    "## `mjData`\n",
    "`mjData` contains the *state* and quantities that depend on it. The state is made up of time, [generalized](https://en.wikipedia.org/wiki/Generalized_coordinates) positions and generalized velocities. These are respectively `data.time`, `data.qpos` and `data.qvel`. In order to make a new `mjData`, all we need is our `mjModel`"
   ]
  },
  {
   "cell_type": "code",
   "execution_count": null,
   "metadata": {},
   "outputs": [],
   "source": [
    "[model.site(i).name for i in range(model.nsite)]"
   ]
  },
  {
   "cell_type": "code",
   "execution_count": null,
   "metadata": {},
   "outputs": [],
   "source": [
    "print(data.site_xpos) #XYZ positions of sites listed above"
   ]
  },
  {
   "cell_type": "code",
   "execution_count": 8,
   "metadata": {},
   "outputs": [
    {
     "name": "stdout",
     "output_type": "stream",
     "text": [
      "['wheelchair', 'left_rear', 'right_rear', 'left_fork', 'left_caster', 'right_fork', 'right_caster', 'sternoclavicular_r2', 'sternoclavicular_r3', 'unrotscap_r3', 'unrotscap_r2', 'acromioclavicular_r2', 'acromioclavicular_r3', 'acromioclavicular_r1', 'unrothum_r1', 'unrothum_r3', 'unrothum_r2', 'elv_angle', 'shoulder_elv', 'shoulder1_r2', 'shoulder_rot', 'elbow_flexion', 'pro_sup', 'deviation', 'flexion', 'cmc_abduction', 'cmc_flexion', 'mp_flexion', 'ip_flexion', 'mcp2_flexion', 'mcp2_abduction', 'pm2_flexion', 'md2_flexion', 'mcp3_flexion', 'mcp3_abduction', 'pm3_flexion', 'md3_flexion', 'mcp4_flexion', 'mcp4_abduction', 'pm4_flexion', 'md4_flexion', 'mcp5_flexion', 'mcp5_abduction', 'pm5_flexion', 'md5_flexion']\n",
      "45\n",
      "[0.     0.     0.0031 0.9999 0.0127 0.     0.     0.     0.     0.\n",
      " 0.     0.     0.     0.     0.     0.     0.     0.     0.     0.\n",
      " 0.     0.     0.     0.     0.     0.     0.     0.     0.     0.\n",
      " 0.     0.     0.     0.     0.     0.     0.     0.     0.     0.\n",
      " 0.     0.     0.     0.     0.     0.     0.     0.     0.     0.\n",
      " 0.    ]\n",
      "51\n",
      "[0. 0. 0. 0. 0. 0. 0. 0. 0. 0. 0. 0. 0. 0. 0. 0. 0. 0. 0. 0. 0. 0. 0. 0.\n",
      " 0. 0. 0. 0. 0. 0. 0. 0. 0. 0. 0. 0. 0. 0. 0. 0. 0. 0. 0. 0. 0. 0. 0. 0.\n",
      " 0. 0.]\n",
      "50\n"
     ]
    }
   ],
   "source": [
    "# JOINTS\n",
    "print([model.jnt(i).name for i in range(model.njnt)])\n",
    "print(model.njnt)\n",
    "\n",
    "#joint position\n",
    "print(data.qpos)\n",
    "print(len(data.qpos))\n",
    "\n",
    "#joint velocity\n",
    "print(data.qvel)\n",
    "print(len(data.qvel))"
   ]
  },
  {
   "cell_type": "code",
   "execution_count": null,
   "metadata": {},
   "outputs": [],
   "source": [
    "# number of actuators, we don't have any because no muscles\n",
    "model.na "
   ]
  },
  {
   "cell_type": "code",
   "execution_count": null,
   "metadata": {},
   "outputs": [],
   "source": [
    "data.act \n",
    "#action vector (muscle activations or actuator commands)."
   ]
  }
 ],
 "metadata": {
  "kernelspec": {
   "display_name": "MyoSuite",
   "language": "python",
   "name": "python3"
  },
  "language_info": {
   "codemirror_mode": {
    "name": "ipython",
    "version": 3
   },
   "file_extension": ".py",
   "mimetype": "text/x-python",
   "name": "python",
   "nbconvert_exporter": "python",
   "pygments_lexer": "ipython3",
   "version": "3.8.20"
  }
 },
 "nbformat": 4,
 "nbformat_minor": 4
}
