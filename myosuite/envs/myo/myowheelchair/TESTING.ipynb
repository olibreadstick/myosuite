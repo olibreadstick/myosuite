{
 "cells": [
  {
   "cell_type": "markdown",
   "metadata": {},
   "source": [
    "# TESTING ENVS"
   ]
  },
  {
   "cell_type": "code",
   "execution_count": null,
   "metadata": {},
   "outputs": [],
   "source": [
    "from myosuite.utils import gym\n",
    "import skvideo.io\n",
    "import numpy as np\n",
    "import os"
   ]
  },
  {
   "cell_type": "code",
   "execution_count": null,
   "metadata": {},
   "outputs": [],
   "source": [
    "from IPython.display import HTML\n",
    "from base64 import b64encode\n",
    " \n",
    "def show_video(video_path, video_width = 400):\n",
    "   \n",
    "  video_file = open(video_path, \"r+b\").read()\n",
    " \n",
    "  video_url = f\"data:video/mp4;base64,{b64encode(video_file).decode()}\"\n",
    "  return HTML(f\"\"\"<video autoplay width={video_width} controls><source src=\"{video_url}\"></video>\"\"\")\n",
    " "
   ]
  },
  {
   "cell_type": "code",
   "execution_count": null,
   "metadata": {},
   "outputs": [],
   "source": [
    "env = gym.make('myoHandWheelHoldFixed-v0')\n",
    "print('Sites: ', [env.sim.model.site_name2id])"
   ]
  },
  {
   "cell_type": "code",
   "execution_count": null,
   "metadata": {},
   "outputs": [],
   "source": [
    "env = gym.make('myoHandWheelHoldFixed-v0')\n",
    "print('List of cameras available', [env.sim.model.camera(i).name for i in range(env.sim.model.ncam)])\n",
    "env.reset()\n",
    "frames = []\n",
    "for _ in range(100):\n",
    "    frame = env.sim.renderer.render_offscreen(\n",
    "                        width=400,\n",
    "                        height=400,\n",
    "                        camera_id=0)\n",
    "    frames.append(frame)\n",
    "    env.step(env.action_space.sample()) # take a random action\n",
    "env.close()\n",
    "\n",
    "os.makedirs('videos', exist_ok=True)\n",
    "# make a local copy\n",
    "skvideo.io.vwrite('videos/temp.mp4', np.asarray(frames),outputdict={\"-pix_fmt\": \"yuv420p\"})\n",
    "\n",
    "# show in the notebook\n",
    "show_video('videos/temp.mp4')"
   ]
  },
  {
   "cell_type": "code",
   "execution_count": null,
   "metadata": {},
   "outputs": [],
   "source": [
    "import matplotlib.pyplot as plt\n",
    "plt.imshow(frame)"
   ]
  },
  {
   "cell_type": "markdown",
   "metadata": {},
   "source": [
    "# Python testing"
   ]
  },
  {
   "cell_type": "code",
   "execution_count": 21,
   "metadata": {},
   "outputs": [],
   "source": [
    "import mujoco"
   ]
  },
  {
   "cell_type": "code",
   "execution_count": 22,
   "metadata": {},
   "outputs": [],
   "source": [
    "model = mujoco.MjModel.from_xml_path(\"../assets/wheelchair/myowc_skeleton.xml\")\n",
    "data = mujoco.MjData(model)"
   ]
  },
  {
   "cell_type": "code",
   "execution_count": 23,
   "metadata": {},
   "outputs": [
    {
     "data": {
      "text/plain": [
       "252"
      ]
     },
     "execution_count": 23,
     "metadata": {},
     "output_type": "execute_result"
    }
   ],
   "source": [
    "model.ngeom"
   ]
  },
  {
   "cell_type": "code",
   "execution_count": 24,
   "metadata": {},
   "outputs": [
    {
     "data": {
      "text/plain": [
       "array([[0.5 , 0.5 , 0.5 , 1.  ],\n",
       "       [0.5 , 0.5 , 0.5 , 1.  ],\n",
       "       [0.5 , 0.5 , 0.5 , 1.  ],\n",
       "       ...,\n",
       "       [0.8 , 0.7 , 0.5 , 1.  ],\n",
       "       [0.8 , 0.7 , 0.5 , 1.  ],\n",
       "       [0.89, 0.85, 0.98, 1.  ]], dtype=float32)"
      ]
     },
     "execution_count": 24,
     "metadata": {},
     "output_type": "execute_result"
    }
   ],
   "source": [
    "model.geom_rgba"
   ]
  },
  {
   "cell_type": "code",
   "execution_count": 33,
   "metadata": {},
   "outputs": [
    {
     "data": {
      "text/plain": [
       "['floor',\n",
       " '',\n",
       " '',\n",
       " '',\n",
       " '',\n",
       " '',\n",
       " '',\n",
       " '',\n",
       " '',\n",
       " '',\n",
       " '',\n",
       " '',\n",
       " '',\n",
       " '',\n",
       " '',\n",
       " 'right_rear_coll',\n",
       " '',\n",
       " '',\n",
       " '',\n",
       " '',\n",
       " '',\n",
       " '',\n",
       " '',\n",
       " '',\n",
       " '',\n",
       " '',\n",
       " '',\n",
       " '',\n",
       " '',\n",
       " '',\n",
       " '',\n",
       " '',\n",
       " '',\n",
       " 'left_rear_coll',\n",
       " '',\n",
       " '',\n",
       " '',\n",
       " '',\n",
       " '',\n",
       " '',\n",
       " '',\n",
       " '',\n",
       " '',\n",
       " '',\n",
       " '',\n",
       " '',\n",
       " '',\n",
       " '',\n",
       " '',\n",
       " '',\n",
       " '',\n",
       " '',\n",
       " '',\n",
       " '',\n",
       " '',\n",
       " '',\n",
       " 'pelvis_r',\n",
       " 'pelvis_l',\n",
       " 'pelvis_r_coll',\n",
       " 'pelvis_l_coll',\n",
       " 'sacrum1',\n",
       " 'lumbar5',\n",
       " 'lumbar4',\n",
       " 'lumbar3',\n",
       " 'lumbar2',\n",
       " 'lumbar1',\n",
       " 'thoracic12_s',\n",
       " 'thoracic11_s',\n",
       " 'thoracic10_s',\n",
       " 'thoracic9_s',\n",
       " 'thoracic8_s',\n",
       " 'thoracic7_s',\n",
       " 'thoracic6_s',\n",
       " 'thoracic5_s',\n",
       " 'thoracic4_s',\n",
       " 'thoracic3_s',\n",
       " 'thoracic2_s',\n",
       " 'thoracic1_s',\n",
       " 'thorax',\n",
       " 'thorax_coll1',\n",
       " 'thorax_coll2',\n",
       " 'thorax_coll3',\n",
       " 'cerv7',\n",
       " 'cerv6',\n",
       " 'cerv6_coll',\n",
       " 'cerv5',\n",
       " 'cerv5_coll',\n",
       " 'cerv4',\n",
       " 'cerv4_coll',\n",
       " 'cerv3',\n",
       " 'cerv3_coll',\n",
       " 'cerv2',\n",
       " 'cerv1',\n",
       " 'hat_skull_coll',\n",
       " 'skull',\n",
       " 'jaw',\n",
       " 'hat_jaw_coll2',\n",
       " 'clavicle_r',\n",
       " 'scapula_r',\n",
       " 'humerus_r',\n",
       " 'humerus_r_coll',\n",
       " 'ulna_r',\n",
       " 'ulna_r_coll',\n",
       " 'radius_r_coll',\n",
       " 'radius_r_coll_2',\n",
       " 'radius_r_coll_3',\n",
       " 'radius_r',\n",
       " 'lunate_r',\n",
       " 'scaphoid_r',\n",
       " 'pisiform_r',\n",
       " 'triquetrum_r',\n",
       " 'capitate_r',\n",
       " 'trapezium_r',\n",
       " 'trapezoid_r',\n",
       " 'hamate_r',\n",
       " '2mc_r',\n",
       " '2mcskin_coll',\n",
       " '3mc_r',\n",
       " '3mcskin_coll',\n",
       " '4mc_r',\n",
       " '4mcskin_coll',\n",
       " '5mc_r',\n",
       " '5mcskin_coll',\n",
       " '1mc_r',\n",
       " '1mcskin_coll',\n",
       " 'thumbprox_r',\n",
       " 'proximal_thumb_r_coll',\n",
       " 'thumbdist_r',\n",
       " 'distal_thumb_r_coll',\n",
       " 'distal_thumb_r_coll_2',\n",
       " '2proxph',\n",
       " 'proxph2_r_coll',\n",
       " '2midph',\n",
       " 'midph2_r_coll',\n",
       " '2distph_r',\n",
       " 'distph2_r_coll',\n",
       " 'distph2_r_coll_2',\n",
       " '3proxph_r',\n",
       " 'proxph3_r_coll',\n",
       " '3midph_r',\n",
       " 'midph3_r_coll',\n",
       " '3distph_r',\n",
       " 'distph3_r_coll',\n",
       " 'distph3_r_coll_2',\n",
       " '4proxph_r',\n",
       " 'proxph4_r_coll',\n",
       " '4midph_r',\n",
       " 'midph4_r_coll',\n",
       " '4distph_r',\n",
       " 'distph4_r_coll',\n",
       " 'distph4_r_coll_2',\n",
       " '5proxph_r',\n",
       " 'proxph5_r_coll',\n",
       " '5midph_r',\n",
       " 'midph5_r_coll',\n",
       " '5distph_r',\n",
       " 'distph5_r_coll',\n",
       " 'distph5_r_coll_2',\n",
       " 'clavicle_l',\n",
       " 'scapula_l',\n",
       " 'humerus_l',\n",
       " 'coll_humerus_l',\n",
       " 'ulna_l',\n",
       " 'coll_ulna_l',\n",
       " 'radius_l',\n",
       " 'coll_radius_l',\n",
       " 'coll_radius_l_1',\n",
       " 'coll_radius_l_2',\n",
       " 'lunate_l',\n",
       " 'scaphoid_l',\n",
       " 'pisiform_l',\n",
       " 'triquetrum_l',\n",
       " 'capitate_l',\n",
       " 'trapezium_l',\n",
       " 'trapezoid_l',\n",
       " 'hamate_l',\n",
       " 'secondmc_l',\n",
       " 'coll_secondmc_l_0',\n",
       " 'thirdmc_l',\n",
       " 'coll_thirdmc_l_0',\n",
       " 'fourthmc_l',\n",
       " 'coll_fourthmc_l_0',\n",
       " 'fifthmc_l',\n",
       " 'coll_fifthmc_l_0',\n",
       " 'firstmc_l',\n",
       " 'coll_firstmc_l_0',\n",
       " 'proximal_thumb_l',\n",
       " 'coll_proximal_thumb_l_0',\n",
       " 'distal_thumb_l',\n",
       " 'coll_distal_thumb_l_0',\n",
       " 'coll_distal_thumb_l_1',\n",
       " '2proxph_l',\n",
       " 'coll_2proxph_l_0',\n",
       " '2midph_l',\n",
       " 'coll_2midph_l_0',\n",
       " '2distph_l',\n",
       " 'coll_2distph_l_0',\n",
       " 'coll_2distph_l_1',\n",
       " '3proxph_l',\n",
       " 'coll_3proxph_l_0',\n",
       " '3midph_l',\n",
       " 'coll_3midph_l_0',\n",
       " '3distph_l',\n",
       " 'coll_3distph_l_0',\n",
       " 'coll_3distph_l_1',\n",
       " '4proxph_l',\n",
       " 'coll_4proxph_l_0',\n",
       " '4midph_l',\n",
       " 'coll_4midph_l_0',\n",
       " '4distph_l',\n",
       " 'coll_4distph_l_0',\n",
       " 'coll_4distph_l_1',\n",
       " '5proxph_l',\n",
       " 'coll_5proxph_l_0',\n",
       " '5midph_l',\n",
       " 'coll_5midph_l_0',\n",
       " '5distph_l',\n",
       " 'coll_5distph_l_0',\n",
       " 'coll_5distph_l_1',\n",
       " 'abdomen_coll',\n",
       " 'femur_r',\n",
       " 'femur1_r_coll',\n",
       " 'femur2_r_coll',\n",
       " 'tibia_r',\n",
       " 'fibula_r',\n",
       " 'tibia1_r_coll',\n",
       " 'tibia2_r_coll',\n",
       " 'talus_r',\n",
       " 'foot_r',\n",
       " 'foot1_r_coll',\n",
       " 'foot2_r_coll',\n",
       " 'foot3_r_coll',\n",
       " 'bofoot_r',\n",
       " 'bofoot1_r_coll',\n",
       " 'bofoot2_r_coll',\n",
       " 'patella_r',\n",
       " 'femur_l',\n",
       " 'femur1_l_coll',\n",
       " 'femur2_l_coll',\n",
       " 'tibia_l',\n",
       " 'fibula_l',\n",
       " 'tibia1_l_coll',\n",
       " 'tibia2_l_coll',\n",
       " 'talus_l',\n",
       " 'foot_l',\n",
       " 'foot1_l_coll',\n",
       " 'foot2_l_coll',\n",
       " 'foot3_l_coll',\n",
       " 'bofoot_l',\n",
       " 'bofoot1_l_coll',\n",
       " 'bofoot2_l_coll',\n",
       " 'patella_l']"
      ]
     },
     "execution_count": 33,
     "metadata": {},
     "output_type": "execute_result"
    }
   ],
   "source": [
    "[model.geom(i).name for i in range(model.ngeom)]"
   ]
  },
  {
   "cell_type": "markdown",
   "metadata": {},
   "source": [
    "## `mjData`\n",
    "`mjData` contains the *state* and quantities that depend on it. The state is made up of time, [generalized](https://en.wikipedia.org/wiki/Generalized_coordinates) positions and generalized velocities. These are respectively `data.time`, `data.qpos` and `data.qvel`. In order to make a new `mjData`, all we need is our `mjModel`"
   ]
  },
  {
   "cell_type": "code",
   "execution_count": 29,
   "metadata": {},
   "outputs": [
    {
     "data": {
      "text/plain": [
       "['wheel',\n",
       " 's_head',\n",
       " 's_wrist_r',\n",
       " 's_wrist_l',\n",
       " 'r_foot_touch',\n",
       " 'r_toes_touch',\n",
       " 'l_foot_touch',\n",
       " 'l_toes_touch']"
      ]
     },
     "execution_count": 29,
     "metadata": {},
     "output_type": "execute_result"
    }
   ],
   "source": [
    "[model.site(i).name for i in range(model.nsite)]"
   ]
  },
  {
   "cell_type": "code",
   "execution_count": 40,
   "metadata": {},
   "outputs": [
    {
     "name": "stdout",
     "output_type": "stream",
     "text": [
      "[[0. 0. 0.]\n",
      " [0. 0. 0.]\n",
      " [0. 0. 0.]\n",
      " [0. 0. 0.]\n",
      " [0. 0. 0.]\n",
      " [0. 0. 0.]\n",
      " [0. 0. 0.]\n",
      " [0. 0. 0.]]\n"
     ]
    }
   ],
   "source": [
    "print(data.site_xpos) #XYZ positions of sites listed above"
   ]
  },
  {
   "cell_type": "code",
   "execution_count": 44,
   "metadata": {},
   "outputs": [
    {
     "name": "stdout",
     "output_type": "stream",
     "text": [
      "['wheelchair', 'right_rear', 'left_rear', 'right_fork', 'right_caster', 'left_fork', 'left_caster', 'sternoclavicular_r2_r', 'sternoclavicular_r3_r', 'unrotscap_r3_r', 'unrotscap_r2_r', 'acromioclavicular_r2_r', 'acromioclavicular_r3_r', 'acromioclavicular_r1_r', 'unrothum_r1_r', 'unrothum_r3_r', 'unrothum_r2_r', 'elv_angle_r', 'shoulder_elv_r', 'shoulder1_r2_r', 'shoulder_rot_r', 'elbow_flex_r', 'pro_sup', 'deviation', 'flexion_r', 'cmc_flexion_r', 'cmc_abduction_r', 'mp_flexion_r', 'ip_flexion_r', 'mcp2_flexion_r', 'mcp2_abduction_r', 'pm2_flexion_r', 'md2_flexion_r', 'mcp3_flexion_r', 'mcp3_abduction_r', 'pm3_flexion_r', 'md3_flexion_r', 'mcp4_flexion_r', 'mcp4_abduction_r', 'pm4_flexion_r', 'md4_flexion_r', 'mcp5_flexion_r', 'mcp5_abduction_r', 'pm5_flexion_r', 'md5_flexion_r', 'sternoclavicular_r2_l', 'sternoclavicular_r3_l', 'unrotscap_r3_l', 'unrotscap_r2_l', 'acromioclavicular_r2_l', 'acromioclavicular_r3_l', 'acromioclavicular_r1_l', 'unrothum_r1_l', 'unrothum_r3_l', 'unrothum_r2_l', 'elv_angle_l', 'shoulder_elv_l', 'shoulder1_r2_l', 'shoulder_rot_l', 'elbow_flex_l', 'pro_sup_l', 'deviation_l', 'flexion_l', 'cmc_flexion_l', 'cmc_abduction_l', 'mp_flexion_l', 'ip_flexion_l', 'mcp2_flexion_l', 'mcp2_abduction_l', 'pm2_flexion_l', 'md2_flexion_l', 'mcp3_flexion_l', 'mcp3_abduction_l', 'pm3_flexion_l', 'md3_flexion_l', 'mcp4_flexion_l', 'mcp4_abduction_l', 'pm4_flexion_l', 'md4_flexion_l', 'mcp5_flexion_l', 'mcp5_abduction_l', 'pm5_flexion_l', 'md5_flexion_l']\n",
      "83\n",
      "[ 0. -1.  0.  1.  0.  0.  0.  0.  0.  0.  0.  0.  0.  0.  0.  0.  0.  0.\n",
      "  0.  0.  0.  0.  0.  0.  0.  0.  0.  0.  0.  0.  0.  0.  0.  0.  0.  0.\n",
      "  0.  0.  0.  0.  0.  0.  0.  0.  0.  0.  0.  0.  0.  0.  0.  0.  0.  0.\n",
      "  0.  0.  0.  0.  0.  0.  0.  0.  0.  0.  0.  0.  0.  0.  0.  0.  0.  0.\n",
      "  0.  0.  0.  0.  0.  0.  0.  0.  0.  0.  0.  0.  0.  0.  0.  0.  0.]\n",
      "89\n",
      "[0. 0. 0. 0. 0. 0. 0. 0. 0. 0. 0. 0. 0. 0. 0. 0. 0. 0. 0. 0. 0. 0. 0. 0.\n",
      " 0. 0. 0. 0. 0. 0. 0. 0. 0. 0. 0. 0. 0. 0. 0. 0. 0. 0. 0. 0. 0. 0. 0. 0.\n",
      " 0. 0. 0. 0. 0. 0. 0. 0. 0. 0. 0. 0. 0. 0. 0. 0. 0. 0. 0. 0. 0. 0. 0. 0.\n",
      " 0. 0. 0. 0. 0. 0. 0. 0. 0. 0. 0. 0. 0. 0. 0. 0.]\n",
      "88\n"
     ]
    }
   ],
   "source": [
    "# JOINTS\n",
    "print([model.jnt(i).name for i in range(model.njnt)])\n",
    "print(model.njnt)\n",
    "\n",
    "#joint position\n",
    "print(data.qpos)\n",
    "print(len(data.qpos))\n",
    "\n",
    "#joint velocity\n",
    "print(data.qvel)\n",
    "print(len(data.qvel))"
   ]
  },
  {
   "cell_type": "code",
   "execution_count": 46,
   "metadata": {},
   "outputs": [
    {
     "data": {
      "text/plain": [
       "0"
      ]
     },
     "execution_count": 46,
     "metadata": {},
     "output_type": "execute_result"
    }
   ],
   "source": [
    "# number of actuators, we don't have any because no muscles\n",
    "model.na "
   ]
  },
  {
   "cell_type": "code",
   "execution_count": 47,
   "metadata": {},
   "outputs": [
    {
     "data": {
      "text/plain": [
       "array([], dtype=float64)"
      ]
     },
     "execution_count": 47,
     "metadata": {},
     "output_type": "execute_result"
    }
   ],
   "source": [
    "data.act \n",
    "#action vector (muscle activations or actuator commands)."
   ]
  }
 ],
 "metadata": {
  "kernelspec": {
   "display_name": "MyoSuite",
   "language": "python",
   "name": "python3"
  },
  "language_info": {
   "codemirror_mode": {
    "name": "ipython",
    "version": 3
   },
   "file_extension": ".py",
   "mimetype": "text/x-python",
   "name": "python",
   "nbconvert_exporter": "python",
   "pygments_lexer": "ipython3",
   "version": "3.8.20"
  }
 },
 "nbformat": 4,
 "nbformat_minor": 4
}
