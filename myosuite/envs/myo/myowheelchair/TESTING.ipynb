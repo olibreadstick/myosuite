{
 "cells": [
  {
   "cell_type": "markdown",
   "metadata": {},
   "source": [
    "# TESTING ENVS"
   ]
  },
  {
   "cell_type": "code",
   "execution_count": 1,
   "metadata": {},
   "outputs": [
    {
     "name": "stdout",
     "output_type": "stream",
     "text": [
      "MyoSuite:> Registering Myo Envs\n",
      "MyoSuite:> Registering Myo Envs\n"
     ]
    }
   ],
   "source": [
    "from myosuite.utils import gym\n",
    "import skvideo.io\n",
    "import numpy as np\n",
    "import os"
   ]
  },
  {
   "cell_type": "code",
   "execution_count": 2,
   "metadata": {},
   "outputs": [
    {
     "name": "stdout",
     "output_type": "stream",
     "text": [
      "True\n"
     ]
    }
   ],
   "source": [
    "from gymnasium.envs import registry\n",
    "print('myoHandWheelHoldFixed-v0' in registry.keys())"
   ]
  },
  {
   "cell_type": "code",
   "execution_count": 3,
   "metadata": {},
   "outputs": [],
   "source": [
    "from IPython.display import HTML\n",
    "from base64 import b64encode\n",
    " \n",
    "def show_video(video_path, video_width = 400):\n",
    "   \n",
    "  video_file = open(video_path, \"r+b\").read()\n",
    " \n",
    "  video_url = f\"data:video/mp4;base64,{b64encode(video_file).decode()}\"\n",
    "  return HTML(f\"\"\"<video autoplay width={video_width} controls><source src=\"{video_url}\"></video>\"\"\")\n",
    " "
   ]
  },
  {
   "cell_type": "code",
   "execution_count": 4,
   "metadata": {},
   "outputs": [
    {
     "name": "stdout",
     "output_type": "stream",
     "text": [
      "\u001b[36m    MyoSuite: A contact-rich simulation suite for musculoskeletal motor control\n",
      "        Vittorio Caggiano, Huawei Wang, Guillaume Durandau, Massimo Sartori, Vikash Kumar\n",
      "        L4DC-2019 | https://sites.google.com/view/myosuite\n",
      "    \u001b[0m\n"
     ]
    },
    {
     "ename": "ValueError",
     "evalue": "No site with name \"wheel\" exists.",
     "output_type": "error",
     "traceback": [
      "\u001b[1;31m---------------------------------------------------------------------------\u001b[0m",
      "\u001b[1;31mValueError\u001b[0m                                Traceback (most recent call last)",
      "Cell \u001b[1;32mIn[4], line 1\u001b[0m\n\u001b[1;32m----> 1\u001b[0m env \u001b[38;5;241m=\u001b[39m \u001b[43mgym\u001b[49m\u001b[38;5;241;43m.\u001b[39;49m\u001b[43mmake\u001b[49m\u001b[43m(\u001b[49m\u001b[38;5;124;43m'\u001b[39;49m\u001b[38;5;124;43mmyoHandWheelHoldFixed-v0\u001b[39;49m\u001b[38;5;124;43m'\u001b[39;49m\u001b[43m)\u001b[49m\n\u001b[0;32m      2\u001b[0m \u001b[38;5;28mprint\u001b[39m(\u001b[38;5;124m'\u001b[39m\u001b[38;5;124mList of cameras available\u001b[39m\u001b[38;5;124m'\u001b[39m, [env\u001b[38;5;241m.\u001b[39msim\u001b[38;5;241m.\u001b[39mmodel\u001b[38;5;241m.\u001b[39mcamera(i)\u001b[38;5;241m.\u001b[39mname \u001b[38;5;28;01mfor\u001b[39;00m i \u001b[38;5;129;01min\u001b[39;00m \u001b[38;5;28mrange\u001b[39m(env\u001b[38;5;241m.\u001b[39msim\u001b[38;5;241m.\u001b[39mmodel\u001b[38;5;241m.\u001b[39mncam)])\n\u001b[0;32m      3\u001b[0m env\u001b[38;5;241m.\u001b[39mreset()\n",
      "File \u001b[1;32mc:\\Users\\jasmi\\miniconda3\\envs\\MyoSuite\\lib\\site-packages\\gymnasium\\envs\\registration.py:802\u001b[0m, in \u001b[0;36mmake\u001b[1;34m(id, max_episode_steps, autoreset, apply_api_compatibility, disable_env_checker, **kwargs)\u001b[0m\n\u001b[0;32m    799\u001b[0m     render_mode \u001b[38;5;241m=\u001b[39m \u001b[38;5;28;01mNone\u001b[39;00m\n\u001b[0;32m    801\u001b[0m \u001b[38;5;28;01mtry\u001b[39;00m:\n\u001b[1;32m--> 802\u001b[0m     env \u001b[38;5;241m=\u001b[39m \u001b[43menv_creator\u001b[49m\u001b[43m(\u001b[49m\u001b[38;5;241;43m*\u001b[39;49m\u001b[38;5;241;43m*\u001b[39;49m\u001b[43menv_spec_kwargs\u001b[49m\u001b[43m)\u001b[49m\n\u001b[0;32m    803\u001b[0m \u001b[38;5;28;01mexcept\u001b[39;00m \u001b[38;5;167;01mTypeError\u001b[39;00m \u001b[38;5;28;01mas\u001b[39;00m e:\n\u001b[0;32m    804\u001b[0m     \u001b[38;5;28;01mif\u001b[39;00m (\n\u001b[0;32m    805\u001b[0m         \u001b[38;5;28mstr\u001b[39m(e)\u001b[38;5;241m.\u001b[39mfind(\u001b[38;5;124m\"\u001b[39m\u001b[38;5;124mgot an unexpected keyword argument \u001b[39m\u001b[38;5;124m'\u001b[39m\u001b[38;5;124mrender_mode\u001b[39m\u001b[38;5;124m'\u001b[39m\u001b[38;5;124m\"\u001b[39m) \u001b[38;5;241m>\u001b[39m\u001b[38;5;241m=\u001b[39m \u001b[38;5;241m0\u001b[39m\n\u001b[0;32m    806\u001b[0m         \u001b[38;5;129;01mand\u001b[39;00m apply_human_rendering\n\u001b[0;32m    807\u001b[0m     ):\n",
      "File \u001b[1;32mc:\\users\\jasmi\\documents\\github\\myosuite\\myosuite\\envs\\myo\\myowheelchair\\wheelhold_v0.py:38\u001b[0m, in \u001b[0;36mWheelHoldFixedEnvV0.__init__\u001b[1;34m(self, model_path, obsd_model_path, seed, **kwargs)\u001b[0m\n\u001b[0;32m     31\u001b[0m \u001b[38;5;66;03m# This two step construction is required for pickling to work correctly. All arguments to all __init__\u001b[39;00m\n\u001b[0;32m     32\u001b[0m \u001b[38;5;66;03m# calls must be pickle friendly. Things like sim / sim_obsd are NOT pickle friendly. Therefore we\u001b[39;00m\n\u001b[0;32m     33\u001b[0m \u001b[38;5;66;03m# first construct the inheritance chain, which is just __init__ calls all the way down, with env_base\u001b[39;00m\n\u001b[0;32m     34\u001b[0m \u001b[38;5;66;03m# creating the sim / sim_obsd instances. Next we run through \"setup\"  which relies on sim / sim_obsd\u001b[39;00m\n\u001b[0;32m     35\u001b[0m \u001b[38;5;66;03m# created in __init__ to complete the setup.\u001b[39;00m\n\u001b[0;32m     36\u001b[0m \u001b[38;5;28msuper\u001b[39m()\u001b[38;5;241m.\u001b[39m\u001b[38;5;21m__init__\u001b[39m(model_path\u001b[38;5;241m=\u001b[39mmodel_path, obsd_model_path\u001b[38;5;241m=\u001b[39mobsd_model_path, seed\u001b[38;5;241m=\u001b[39mseed, env_credits\u001b[38;5;241m=\u001b[39m\u001b[38;5;28mself\u001b[39m\u001b[38;5;241m.\u001b[39mMYO_CREDIT)\n\u001b[1;32m---> 38\u001b[0m \u001b[38;5;28;43mself\u001b[39;49m\u001b[38;5;241;43m.\u001b[39;49m\u001b[43m_setup\u001b[49m\u001b[43m(\u001b[49m\u001b[38;5;241;43m*\u001b[39;49m\u001b[38;5;241;43m*\u001b[39;49m\u001b[43mkwargs\u001b[49m\u001b[43m)\u001b[49m\n",
      "File \u001b[1;32mc:\\users\\jasmi\\documents\\github\\myosuite\\myosuite\\envs\\myo\\myowheelchair\\wheelhold_v0.py:46\u001b[0m, in \u001b[0;36mWheelHoldFixedEnvV0._setup\u001b[1;34m(self, obs_keys, weighted_reward_keys, **kwargs)\u001b[0m\n\u001b[0;32m     41\u001b[0m \u001b[38;5;28;01mdef\u001b[39;00m \u001b[38;5;21m_setup\u001b[39m(\u001b[38;5;28mself\u001b[39m,\n\u001b[0;32m     42\u001b[0m         obs_keys:\u001b[38;5;28mlist\u001b[39m \u001b[38;5;241m=\u001b[39m DEFAULT_OBS_KEYS,\n\u001b[0;32m     43\u001b[0m         weighted_reward_keys:\u001b[38;5;28mlist\u001b[39m \u001b[38;5;241m=\u001b[39m DEFAULT_RWD_KEYS_AND_WEIGHTS,\n\u001b[0;32m     44\u001b[0m         \u001b[38;5;241m*\u001b[39m\u001b[38;5;241m*\u001b[39mkwargs,\n\u001b[0;32m     45\u001b[0m     ):\n\u001b[1;32m---> 46\u001b[0m     \u001b[38;5;28mself\u001b[39m\u001b[38;5;241m.\u001b[39mobject_sid \u001b[38;5;241m=\u001b[39m \u001b[38;5;28;43mself\u001b[39;49m\u001b[38;5;241;43m.\u001b[39;49m\u001b[43msim\u001b[49m\u001b[38;5;241;43m.\u001b[39;49m\u001b[43mmodel\u001b[49m\u001b[38;5;241;43m.\u001b[39;49m\u001b[43msite_name2id\u001b[49m\u001b[43m(\u001b[49m\u001b[38;5;124;43m\"\u001b[39;49m\u001b[38;5;124;43mwheel\u001b[39;49m\u001b[38;5;124;43m\"\u001b[39;49m\u001b[43m)\u001b[49m\n\u001b[0;32m     47\u001b[0m     \u001b[38;5;28mself\u001b[39m\u001b[38;5;241m.\u001b[39mgoal_sid \u001b[38;5;241m=\u001b[39m \u001b[38;5;28mself\u001b[39m\u001b[38;5;241m.\u001b[39msim\u001b[38;5;241m.\u001b[39mmodel\u001b[38;5;241m.\u001b[39msite_name2id(\u001b[38;5;124m\"\u001b[39m\u001b[38;5;124mgoal\u001b[39m\u001b[38;5;124m\"\u001b[39m)\n\u001b[0;32m     48\u001b[0m     \u001b[38;5;28mself\u001b[39m\u001b[38;5;241m.\u001b[39mobject_init_pos \u001b[38;5;241m=\u001b[39m \u001b[38;5;28mself\u001b[39m\u001b[38;5;241m.\u001b[39msim\u001b[38;5;241m.\u001b[39mdata\u001b[38;5;241m.\u001b[39msite_xpos[\u001b[38;5;28mself\u001b[39m\u001b[38;5;241m.\u001b[39mobject_sid]\u001b[38;5;241m.\u001b[39mcopy()\n",
      "File \u001b[1;32mc:\\users\\jasmi\\documents\\github\\myosuite\\myosuite\\physics\\mj_sim_scene.py:139\u001b[0m, in \u001b[0;36mDMSimScene._patch_mjmodel_accessors.<locals>.<lambda>\u001b[1;34m(name)\u001b[0m\n\u001b[0;32m    136\u001b[0m     model\u001b[38;5;241m.\u001b[39mgeom_name2id \u001b[38;5;241m=\u001b[39m \u001b[38;5;28;01mlambda\u001b[39;00m name: name2id(\u001b[38;5;124m'\u001b[39m\u001b[38;5;124mgeom\u001b[39m\u001b[38;5;124m'\u001b[39m, name)\n\u001b[0;32m    138\u001b[0m \u001b[38;5;28;01mif\u001b[39;00m \u001b[38;5;129;01mnot\u001b[39;00m \u001b[38;5;28mhasattr\u001b[39m(model, \u001b[38;5;124m'\u001b[39m\u001b[38;5;124msite_name2id\u001b[39m\u001b[38;5;124m'\u001b[39m):\n\u001b[1;32m--> 139\u001b[0m     model\u001b[38;5;241m.\u001b[39msite_name2id \u001b[38;5;241m=\u001b[39m \u001b[38;5;28;01mlambda\u001b[39;00m name: \u001b[43mname2id\u001b[49m\u001b[43m(\u001b[49m\u001b[38;5;124;43m'\u001b[39;49m\u001b[38;5;124;43msite\u001b[39;49m\u001b[38;5;124;43m'\u001b[39;49m\u001b[43m,\u001b[49m\u001b[43m \u001b[49m\u001b[43mname\u001b[49m\u001b[43m)\u001b[49m\n\u001b[0;32m    141\u001b[0m \u001b[38;5;28;01mif\u001b[39;00m \u001b[38;5;129;01mnot\u001b[39;00m \u001b[38;5;28mhasattr\u001b[39m(model, \u001b[38;5;124m'\u001b[39m\u001b[38;5;124mjoint_name2id\u001b[39m\u001b[38;5;124m'\u001b[39m):\n\u001b[0;32m    142\u001b[0m     model\u001b[38;5;241m.\u001b[39mjoint_name2id \u001b[38;5;241m=\u001b[39m \u001b[38;5;28;01mlambda\u001b[39;00m name: name2id(\u001b[38;5;124m'\u001b[39m\u001b[38;5;124mjoint\u001b[39m\u001b[38;5;124m'\u001b[39m, name)\n",
      "File \u001b[1;32mc:\\users\\jasmi\\documents\\github\\myosuite\\myosuite\\physics\\mj_sim_scene.py:117\u001b[0m, in \u001b[0;36mDMSimScene._patch_mjmodel_accessors.<locals>.name2id\u001b[1;34m(type_name, name)\u001b[0m\n\u001b[0;32m    113\u001b[0m obj_id \u001b[38;5;241m=\u001b[39m mjlib\u001b[38;5;241m.\u001b[39mmj_name2id(model\u001b[38;5;241m.\u001b[39mptr,\n\u001b[0;32m    114\u001b[0m                           mjlib\u001b[38;5;241m.\u001b[39mmju_str2Type(type_name\u001b[38;5;241m.\u001b[39mencode()),\n\u001b[0;32m    115\u001b[0m                           name\u001b[38;5;241m.\u001b[39mencode())\n\u001b[0;32m    116\u001b[0m \u001b[38;5;28;01mif\u001b[39;00m obj_id \u001b[38;5;241m<\u001b[39m \u001b[38;5;241m0\u001b[39m:\n\u001b[1;32m--> 117\u001b[0m     \u001b[38;5;28;01mraise\u001b[39;00m \u001b[38;5;167;01mValueError\u001b[39;00m(\u001b[38;5;124m'\u001b[39m\u001b[38;5;124mNo \u001b[39m\u001b[38;5;132;01m{}\u001b[39;00m\u001b[38;5;124m with name \u001b[39m\u001b[38;5;124m\"\u001b[39m\u001b[38;5;132;01m{}\u001b[39;00m\u001b[38;5;124m\"\u001b[39m\u001b[38;5;124m exists.\u001b[39m\u001b[38;5;124m'\u001b[39m\u001b[38;5;241m.\u001b[39mformat(\n\u001b[0;32m    118\u001b[0m         type_name, name))\n\u001b[0;32m    119\u001b[0m \u001b[38;5;28;01mreturn\u001b[39;00m obj_id\n",
      "\u001b[1;31mValueError\u001b[0m: No site with name \"wheel\" exists."
     ]
    }
   ],
   "source": [
    "env = gym.make('myoHandWheelHoldFixed-v0')\n",
    "print('List of cameras available', [env.sim.model.camera(i).name for i in range(env.sim.model.ncam)])\n",
    "env.reset()\n",
    "frames = []\n",
    "for _ in range(100):\n",
    "    frame = env.sim.renderer.render_offscreen(\n",
    "                        width=400,\n",
    "                        height=400,\n",
    "                        camera_id=0)\n",
    "    frames.append(frame)\n",
    "    env.step(env.action_space.sample()) # take a random action\n",
    "env.close()\n",
    "\n",
    "os.makedirs('videos', exist_ok=True)\n",
    "# make a local copy\n",
    "skvideo.io.vwrite('videos/temp.mp4', np.asarray(frames),outputdict={\"-pix_fmt\": \"yuv420p\"})\n",
    "\n",
    "# show in the notebook\n",
    "show_video('videos/temp.mp4')"
   ]
  },
  {
   "cell_type": "code",
   "execution_count": null,
   "metadata": {},
   "outputs": [],
   "source": [
    "import matplotlib.pyplot as plt\n",
    "plt.imshow(frame)"
   ]
  }
 ],
 "metadata": {
  "kernelspec": {
   "display_name": "MyoSuite",
   "language": "python",
   "name": "python3"
  },
  "language_info": {
   "codemirror_mode": {
    "name": "ipython",
    "version": 3
   },
   "file_extension": ".py",
   "mimetype": "text/x-python",
   "name": "python",
   "nbconvert_exporter": "python",
   "pygments_lexer": "ipython3",
   "version": "3.8.20"
  }
 },
 "nbformat": 4,
 "nbformat_minor": 4
}
