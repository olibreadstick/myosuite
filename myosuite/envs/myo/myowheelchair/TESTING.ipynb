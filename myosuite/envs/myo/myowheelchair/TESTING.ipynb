{
 "cells": [
  {
   "cell_type": "markdown",
   "metadata": {},
   "source": [
    "# TESTING ENVS"
   ]
  },
  {
   "cell_type": "code",
   "execution_count": 4,
   "metadata": {},
   "outputs": [],
   "source": [
    "from myosuite.utils import gym\n",
    "import skvideo.io\n",
    "import numpy as np\n",
    "import os"
   ]
  },
  {
   "cell_type": "code",
   "execution_count": 5,
   "metadata": {},
   "outputs": [
    {
     "name": "stdout",
     "output_type": "stream",
     "text": [
      "dict_keys(['CartPole-v0', 'CartPole-v1', 'MountainCar-v0', 'MountainCarContinuous-v0', 'Pendulum-v1', 'Acrobot-v1', 'phys2d/CartPole-v0', 'phys2d/CartPole-v1', 'phys2d/Pendulum-v0', 'LunarLander-v2', 'LunarLanderContinuous-v2', 'BipedalWalker-v3', 'BipedalWalkerHardcore-v3', 'CarRacing-v2', 'Blackjack-v1', 'FrozenLake-v1', 'FrozenLake8x8-v1', 'CliffWalking-v0', 'Taxi-v3', 'tabular/Blackjack-v0', 'tabular/CliffWalking-v0', 'Reacher-v2', 'Reacher-v4', 'Pusher-v2', 'Pusher-v4', 'InvertedPendulum-v2', 'InvertedPendulum-v4', 'InvertedDoublePendulum-v2', 'InvertedDoublePendulum-v4', 'HalfCheetah-v2', 'HalfCheetah-v3', 'HalfCheetah-v4', 'Hopper-v2', 'Hopper-v3', 'Hopper-v4', 'Swimmer-v2', 'Swimmer-v3', 'Swimmer-v4', 'Walker2d-v2', 'Walker2d-v3', 'Walker2d-v4', 'Ant-v2', 'Ant-v3', 'Ant-v4', 'Humanoid-v2', 'Humanoid-v3', 'Humanoid-v4', 'HumanoidStandup-v2', 'HumanoidStandup-v4', 'GymV21Environment-v0', 'GymV26Environment-v0', 'motorFingerReachFixed-v0', 'motorFingerReachRandom-v0', 'myoFingerReachFixed-v0', 'myoSarcFingerReachFixed-v0', 'myoFatiFingerReachFixed-v0', 'myoFingerReachRandom-v0', 'myoSarcFingerReachRandom-v0', 'myoFatiFingerReachRandom-v0', 'myoElbowPose1D6MFixed-v0', 'myoSarcElbowPose1D6MFixed-v0', 'myoFatiElbowPose1D6MFixed-v0', 'myoElbowPose1D6MRandom-v0', 'myoSarcElbowPose1D6MRandom-v0', 'myoFatiElbowPose1D6MRandom-v0', 'myoElbowPose1D6MExoFixed-v0', 'myoSarcElbowPose1D6MExoFixed-v0', 'myoFatiElbowPose1D6MExoFixed-v0', 'myoElbowPose1D6MExoRandom-v0', 'myoSarcElbowPose1D6MExoRandom-v0', 'myoFatiElbowPose1D6MExoRandom-v0', 'motorFingerPoseFixed-v0', 'motorFingerPoseRandom-v0', 'myoFingerPoseFixed-v0', 'myoSarcFingerPoseFixed-v0', 'myoFatiFingerPoseFixed-v0', 'myoFingerPoseRandom-v0', 'myoSarcFingerPoseRandom-v0', 'myoFatiFingerPoseRandom-v0', 'myoHandPoseFixed-v0', 'myoSarcHandPoseFixed-v0', 'myoFatiHandPoseFixed-v0', 'myoReafHandPoseFixed-v0', 'myoHandPose0Fixed-v0', 'myoSarcHandPose0Fixed-v0', 'myoFatiHandPose0Fixed-v0', 'myoReafHandPose0Fixed-v0', 'myoHandPose1Fixed-v0', 'myoSarcHandPose1Fixed-v0', 'myoFatiHandPose1Fixed-v0', 'myoReafHandPose1Fixed-v0', 'myoHandPose2Fixed-v0', 'myoSarcHandPose2Fixed-v0', 'myoFatiHandPose2Fixed-v0', 'myoReafHandPose2Fixed-v0', 'myoHandPose3Fixed-v0', 'myoSarcHandPose3Fixed-v0', 'myoFatiHandPose3Fixed-v0', 'myoReafHandPose3Fixed-v0', 'myoHandPose4Fixed-v0', 'myoSarcHandPose4Fixed-v0', 'myoFatiHandPose4Fixed-v0', 'myoReafHandPose4Fixed-v0', 'myoHandPose5Fixed-v0', 'myoSarcHandPose5Fixed-v0', 'myoFatiHandPose5Fixed-v0', 'myoReafHandPose5Fixed-v0', 'myoHandPose6Fixed-v0', 'myoSarcHandPose6Fixed-v0', 'myoFatiHandPose6Fixed-v0', 'myoReafHandPose6Fixed-v0', 'myoHandPose7Fixed-v0', 'myoSarcHandPose7Fixed-v0', 'myoFatiHandPose7Fixed-v0', 'myoReafHandPose7Fixed-v0', 'myoHandPose8Fixed-v0', 'myoSarcHandPose8Fixed-v0', 'myoFatiHandPose8Fixed-v0', 'myoReafHandPose8Fixed-v0', 'myoHandPose9Fixed-v0', 'myoSarcHandPose9Fixed-v0', 'myoFatiHandPose9Fixed-v0', 'myoReafHandPose9Fixed-v0', 'myoHandPoseRandom-v0', 'myoSarcHandPoseRandom-v0', 'myoFatiHandPoseRandom-v0', 'myoReafHandPoseRandom-v0', 'myoLegStandRandom-v0', 'myoSarcLegStandRandom-v0', 'myoFatiLegStandRandom-v0', 'myoLegWalk-v0', 'myoSarcLegWalk-v0', 'myoFatiLegWalk-v0', 'myoLegRoughTerrainWalk-v0', 'myoSarcLegRoughTerrainWalk-v0', 'myoFatiLegRoughTerrainWalk-v0', 'myoLegHillyTerrainWalk-v0', 'myoSarcLegHillyTerrainWalk-v0', 'myoFatiLegHillyTerrainWalk-v0', 'myoLegStairTerrainWalk-v0', 'myoSarcLegStairTerrainWalk-v0', 'myoFatiLegStairTerrainWalk-v0', 'myoHandReachFixed-v0', 'myoSarcHandReachFixed-v0', 'myoFatiHandReachFixed-v0', 'myoReafHandReachFixed-v0', 'myoHandReachRandom-v0', 'myoSarcHandReachRandom-v0', 'myoFatiHandReachRandom-v0', 'myoReafHandReachRandom-v0', 'myoHandKeyTurnFixed-v0', 'myoSarcHandKeyTurnFixed-v0', 'myoFatiHandKeyTurnFixed-v0', 'myoReafHandKeyTurnFixed-v0', 'myoHandKeyTurnRandom-v0', 'myoSarcHandKeyTurnRandom-v0', 'myoFatiHandKeyTurnRandom-v0', 'myoReafHandKeyTurnRandom-v0', 'myoHandObjHoldFixed-v0', 'myoSarcHandObjHoldFixed-v0', 'myoFatiHandObjHoldFixed-v0', 'myoReafHandObjHoldFixed-v0', 'myoHandObjHoldRandom-v0', 'myoSarcHandObjHoldRandom-v0', 'myoFatiHandObjHoldRandom-v0', 'myoReafHandObjHoldRandom-v0', 'myoHandPenTwirlFixed-v0', 'myoSarcHandPenTwirlFixed-v0', 'myoFatiHandPenTwirlFixed-v0', 'myoReafHandPenTwirlFixed-v0', 'myoHandPenTwirlRandom-v0', 'myoSarcHandPenTwirlRandom-v0', 'myoFatiHandPenTwirlRandom-v0', 'myoReafHandPenTwirlRandom-v0', 'myoHandReorient8-v0', 'myoSarcHandReorient8-v0', 'myoFatiHandReorient8-v0', 'myoReafHandReorient8-v0', 'myoHandReorient100-v0', 'myoSarcHandReorient100-v0', 'myoFatiHandReorient100-v0', 'myoReafHandReorient100-v0', 'myoHandReorientID-v0', 'myoSarcHandReorientID-v0', 'myoFatiHandReorientID-v0', 'myoReafHandReorientID-v0', 'myoHandReorientOOD-v0', 'myoSarcHandReorientOOD-v0', 'myoFatiHandReorientOOD-v0', 'myoReafHandReorientOOD-v0', 'myoChallengeBimanual-v0', 'myoSarcChallengeBimanual-v0', 'myoFatiChallengeBimanual-v0', 'myoChallengeOslRunFixed-v0', 'myoSarcChallengeOslRunFixed-v0', 'myoFatiChallengeOslRunFixed-v0', 'myoChallengeOslRunRandom-v0', 'myoSarcChallengeOslRunRandom-v0', 'myoFatiChallengeOslRunRandom-v0', 'myoChallengeRelocateP1-v0', 'myoSarcChallengeRelocateP1-v0', 'myoFatiChallengeRelocateP1-v0', 'myoChallengeRelocateP2-v0', 'myoSarcChallengeRelocateP2-v0', 'myoFatiChallengeRelocateP2-v0', 'myoChallengeRelocateP2eval-v0', 'myoSarcChallengeRelocateP2eval-v0', 'myoFatiChallengeRelocateP2eval-v0', 'myoChallengeChaseTagP1-v0', 'myoSarcChallengeChaseTagP1-v0', 'myoFatiChallengeChaseTagP1-v0', 'myoChallengeChaseTagP2-v0', 'myoSarcChallengeChaseTagP2-v0', 'myoFatiChallengeChaseTagP2-v0', 'myoChallengeChaseTagP2eval-v0', 'myoSarcChallengeChaseTagP2eval-v0', 'myoFatiChallengeChaseTagP2eval-v0', 'myoChallengeDieReorientDemo-v0', 'myoSarcChallengeDieReorientDemo-v0', 'myoFatiChallengeDieReorientDemo-v0', 'myoChallengeDieReorientP1-v0', 'myoSarcChallengeDieReorientP1-v0', 'myoFatiChallengeDieReorientP1-v0', 'myoChallengeDieReorientP2-v0', 'myoSarcChallengeDieReorientP2-v0', 'myoFatiChallengeDieReorientP2-v0', 'myoChallengeBaodingP1-v1', 'myoSarcChallengeBaodingP1-v1', 'myoFatiChallengeBaodingP1-v1', 'myoChallengeBaodingP2-v1', 'myoSarcChallengeBaodingP2-v1', 'myoFatiChallengeBaodingP2-v1', 'MyoHandAirplaneFly-v0', 'MyoHandAirplaneLift-v0', 'MyoHandAirplanePass-v0', 'MyoHandAlarmclockLift-v0', 'MyoHandAlarmclockSee-v0', 'MyoHandAppleLift-v0', 'MyoHandApplePass-v0', 'MyoHandBananaPass-v0', 'MyoHandCupDrink-v0', 'MyoHandCupPass-v0', 'MyoHandCupPour-v0', 'MyoHandDuckInspect-v0', 'MyoHandDuckLift-v0', 'MyoHandElephantLift-v0', 'MyoHandElephantPass-v0', 'MyoHandFlashlightLift-v0', 'MyoHandFlashlight1On-v0', 'MyoHandFlashlight2On-v0', 'MyoHandHammerUse-v0', 'MyoHandMouseLift-v0', 'MyoHandMugDrink3-v0', 'MyoHandScissorsUse-v0', 'MyoHandSpheremediumLift-v0', 'MyoHandStampStamp-v0', 'MyoHandStanfordbunnyInspect-v0', 'MyoHandStaplerLift-v0', 'MyoHandToothpasteLift-v0', 'MyoHandToruslargeInspect-v0', 'MyoHandTrainPlay-v0', 'MyoHandWatchLift-v0', 'MyoHandWaterbottleShake-v0', 'MyoHandWineglassDrink2-v0', 'MyoHandWineglassLift-v0', 'MyoHandStampLift-v0', 'MyoHandStaplerStaple1-v0', 'MyoHandStaplerStaple2-v0', 'MyoHandTeapotPour2-v0', 'MyoHandToothbrushBrush1-v0', 'MyoHandBowlDrink2-v0', 'MyoHandBowlPass-v0', 'MyoHandToothpasteSqueeze1-v0', 'MyoHandToruslargeLift-v0', 'MyoHandTorusmediumLift-v0', 'MyoHandCubesmallPass-v0', 'MyoHandTorussmallLift-v0', 'MyoHandMugLift-v0', 'MyoHandTorussmallPass-v0', 'MyoHandPhoneLift-v0', 'MyoHandCylindermediumLift-v0', 'MyoHandWatchPass-v0', 'MyoHandCylindersmallInspect-v0', 'MyoHandCylindersmallPass-v0', 'MyoHandPyramidsmallInspect-v0', 'MyoHandWineglassToast1-v0', 'MyoHandSpheresmallInspect-v0', 'MyoHandSpheresmallLift-v0', 'MyoHandSpheresmallPass-v0', 'MyoHandAlarmclockPass-v0', 'MyoHandBinocularsPass-v0', 'MyoHandDuckPass-v0', 'MyoHandEyeglassesPass-v0', 'MyoHandFlashlightPass-v0', 'MyoHandFlutePass-v0', 'MyoHandHammerPass-v0', 'MyoHandHandInspect-v0', 'MyoHandHeadphonesPass-v0', 'MyoHandKnifeChop-v0', 'MyoHandLightbulbPass-v0', 'MyoHandMouseUse-v0', 'MyoHandPiggybankUse-v0', 'MyoHandToothbrushLift-v0', 'MyoHandWaterbottleLift-v0', 'MyoHandWineglassPass-v0', 'MyoHandStanfordbunnyPass-v0', 'MyoHandCameraPass-v0', 'MyoHandCubelargePass-v0', 'MyoHandCubemediumLInspect-v0', 'MyoHandMousePass-v0', 'MyoHandCubesmallLift-v0', 'MyoHandTorusmediumPass-v0', 'MyoHandMugPass-v0', 'MyoHandPiggybankPass-v0', 'MyoHandCylindermediumPass-v0', 'MyoHandPyramidlargePass-v0', 'MyoHandWaterbottlePass-v0', 'MyoHandPyramidmediumPass-v0', 'MyoHandSpherelargePass-v0', 'MyoHandSpheremediumInspect-v0', 'MyoHandCylinderlargeInspect-v0', 'MyoHandGamecontrollerPass-v0', 'MyoHandAirplaneFixed-v0', 'MyoHandAirplaneRandom-v0', 'MyoHandAlarmclockFixed-v0', 'MyoHandAlarmclockRandom-v0', 'MyoHandAppleFixed-v0', 'MyoHandAppleRandom-v0', 'MyoHandBananaFixed-v0', 'MyoHandBananaRandom-v0', 'MyoHandBinocularsFixed-v0', 'MyoHandBinocularsRandom-v0', 'MyoHandBowlFixed-v0', 'MyoHandBowlRandom-v0', 'MyoHandCameraFixed-v0', 'MyoHandCameraRandom-v0', 'MyoHandCoffeemugFixed-v0', 'MyoHandCoffeemugRandom-v0', 'MyoHandCubelargeFixed-v0', 'MyoHandCubelargeRandom-v0', 'MyoHandCubemediumFixed-v0', 'MyoHandCubemediumRandom-v0', 'MyoHandCubesmallFixed-v0', 'MyoHandCubesmallRandom-v0', 'MyoHandCupFixed-v0', 'MyoHandCupRandom-v0', 'MyoHandCylinderlargeFixed-v0', 'MyoHandCylinderlargeRandom-v0', 'MyoHandCylindermediumFixed-v0', 'MyoHandCylindermediumRandom-v0', 'MyoHandCylindersmallFixed-v0', 'MyoHandCylindersmallRandom-v0', 'MyoHandDuckFixed-v0', 'MyoHandDuckRandom-v0', 'MyoHandElephantFixed-v0', 'MyoHandElephantRandom-v0', 'MyoHandEyeglassesFixed-v0', 'MyoHandEyeglassesRandom-v0', 'MyoHandFlashlightFixed-v0', 'MyoHandFlashlightRandom-v0', 'MyoHandFluteFixed-v0', 'MyoHandFluteRandom-v0', 'MyoHandGamecontrollerFixed-v0', 'MyoHandGamecontrollerRandom-v0', 'MyoHandHammerFixed-v0', 'MyoHandHammerRandom-v0', 'MyoHandHandFixed-v0', 'MyoHandHandRandom-v0', 'MyoHandHeadphonesFixed-v0', 'MyoHandHeadphonesRandom-v0', 'MyoHandKnifeFixed-v0', 'MyoHandKnifeRandom-v0', 'MyoHandLightbulbFixed-v0', 'MyoHandLightbulbRandom-v0', 'MyoHandMouseFixed-v0', 'MyoHandMouseRandom-v0', 'MyoHandMugFixed-v0', 'MyoHandMugRandom-v0', 'MyoHandPhoneFixed-v0', 'MyoHandPhoneRandom-v0', 'MyoHandPiggybankFixed-v0', 'MyoHandPiggybankRandom-v0', 'MyoHandPyramidlargeFixed-v0', 'MyoHandPyramidlargeRandom-v0', 'MyoHandPyramidmediumFixed-v0', 'MyoHandPyramidmediumRandom-v0', 'MyoHandPyramidsmallFixed-v0', 'MyoHandPyramidsmallRandom-v0', 'MyoHandScissorsFixed-v0', 'MyoHandScissorsRandom-v0', 'MyoHandSpherelargeFixed-v0', 'MyoHandSpherelargeRandom-v0', 'MyoHandSpheremediumFixed-v0', 'MyoHandSpheremediumRandom-v0', 'MyoHandSpheresmallFixed-v0', 'MyoHandSpheresmallRandom-v0', 'MyoHandStampFixed-v0', 'MyoHandStampRandom-v0', 'MyoHandStanfordbunnyFixed-v0', 'MyoHandStanfordbunnyRandom-v0', 'MyoHandStaplerFixed-v0', 'MyoHandStaplerRandom-v0', 'MyoHandTeapotFixed-v0', 'MyoHandTeapotRandom-v0', 'MyoHandToothbrushFixed-v0', 'MyoHandToothbrushRandom-v0', 'MyoHandToothpasteFixed-v0', 'MyoHandToothpasteRandom-v0', 'MyoHandToruslargeFixed-v0', 'MyoHandToruslargeRandom-v0', 'MyoHandTorusmediumFixed-v0', 'MyoHandTorusmediumRandom-v0', 'MyoHandTorussmallFixed-v0', 'MyoHandTorussmallRandom-v0', 'MyoHandTrainFixed-v0', 'MyoHandTrainRandom-v0', 'MyoHandWatchFixed-v0', 'MyoHandWatchRandom-v0', 'MyoHandWaterbottleFixed-v0', 'MyoHandWaterbottleRandom-v0', 'MyoHandWineglassFixed-v0', 'MyoHandWineglassRandom-v0'])\n"
     ]
    }
   ],
   "source": [
    "from gymnasium.envs import registry\n",
    "print(registry.keys())  # Shows all registered environment IDs"
   ]
  },
  {
   "cell_type": "code",
   "execution_count": 2,
   "metadata": {},
   "outputs": [],
   "source": [
    "from IPython.display import HTML\n",
    "from base64 import b64encode\n",
    " \n",
    "def show_video(video_path, video_width = 400):\n",
    "   \n",
    "  video_file = open(video_path, \"r+b\").read()\n",
    " \n",
    "  video_url = f\"data:video/mp4;base64,{b64encode(video_file).decode()}\"\n",
    "  return HTML(f\"\"\"<video autoplay width={video_width} controls><source src=\"{video_url}\"></video>\"\"\")\n",
    " "
   ]
  },
  {
   "cell_type": "code",
   "execution_count": 3,
   "metadata": {},
   "outputs": [
    {
     "ename": "NameNotFound",
     "evalue": "Environment `myoHandWheelHoldFixed` doesn't exist. Did you mean: `myoHandObjHoldFixed`?",
     "output_type": "error",
     "traceback": [
      "\u001b[1;31m---------------------------------------------------------------------------\u001b[0m",
      "\u001b[1;31mNameNotFound\u001b[0m                              Traceback (most recent call last)",
      "Cell \u001b[1;32mIn[3], line 1\u001b[0m\n\u001b[1;32m----> 1\u001b[0m env \u001b[38;5;241m=\u001b[39m \u001b[43mgym\u001b[49m\u001b[38;5;241;43m.\u001b[39;49m\u001b[43mmake\u001b[49m\u001b[43m(\u001b[49m\u001b[38;5;124;43m'\u001b[39;49m\u001b[38;5;124;43mmyoHandWheelHoldFixed-v0\u001b[39;49m\u001b[38;5;124;43m'\u001b[39;49m\u001b[43m)\u001b[49m\n\u001b[0;32m      2\u001b[0m \u001b[38;5;28mprint\u001b[39m(\u001b[38;5;124m'\u001b[39m\u001b[38;5;124mList of cameras available\u001b[39m\u001b[38;5;124m'\u001b[39m, [env\u001b[38;5;241m.\u001b[39msim\u001b[38;5;241m.\u001b[39mmodel\u001b[38;5;241m.\u001b[39mcamera(i)\u001b[38;5;241m.\u001b[39mname \u001b[38;5;28;01mfor\u001b[39;00m i \u001b[38;5;129;01min\u001b[39;00m \u001b[38;5;28mrange\u001b[39m(env\u001b[38;5;241m.\u001b[39msim\u001b[38;5;241m.\u001b[39mmodel\u001b[38;5;241m.\u001b[39mncam)])\n\u001b[0;32m      3\u001b[0m env\u001b[38;5;241m.\u001b[39mreset()\n",
      "File \u001b[1;32mc:\\Users\\jasmi\\miniconda3\\envs\\MyoSuite\\lib\\site-packages\\gymnasium\\envs\\registration.py:741\u001b[0m, in \u001b[0;36mmake\u001b[1;34m(id, max_episode_steps, autoreset, apply_api_compatibility, disable_env_checker, **kwargs)\u001b[0m\n\u001b[0;32m    738\u001b[0m     \u001b[38;5;28;01massert\u001b[39;00m \u001b[38;5;28misinstance\u001b[39m(\u001b[38;5;28mid\u001b[39m, \u001b[38;5;28mstr\u001b[39m)\n\u001b[0;32m    740\u001b[0m     \u001b[38;5;66;03m# The environment name can include an unloaded module in \"module:env_name\" style\u001b[39;00m\n\u001b[1;32m--> 741\u001b[0m     env_spec \u001b[38;5;241m=\u001b[39m \u001b[43m_find_spec\u001b[49m\u001b[43m(\u001b[49m\u001b[38;5;28;43mid\u001b[39;49m\u001b[43m)\u001b[49m\n\u001b[0;32m    743\u001b[0m \u001b[38;5;28;01massert\u001b[39;00m \u001b[38;5;28misinstance\u001b[39m(env_spec, EnvSpec)\n\u001b[0;32m    745\u001b[0m \u001b[38;5;66;03m# Update the env spec kwargs with the `make` kwargs\u001b[39;00m\n",
      "File \u001b[1;32mc:\\Users\\jasmi\\miniconda3\\envs\\MyoSuite\\lib\\site-packages\\gymnasium\\envs\\registration.py:527\u001b[0m, in \u001b[0;36m_find_spec\u001b[1;34m(env_id)\u001b[0m\n\u001b[0;32m    521\u001b[0m     logger\u001b[38;5;241m.\u001b[39mwarn(\n\u001b[0;32m    522\u001b[0m         \u001b[38;5;124mf\u001b[39m\u001b[38;5;124m\"\u001b[39m\u001b[38;5;124mUsing the latest versioned environment `\u001b[39m\u001b[38;5;132;01m{\u001b[39;00mnew_env_id\u001b[38;5;132;01m}\u001b[39;00m\u001b[38;5;124m` \u001b[39m\u001b[38;5;124m\"\u001b[39m\n\u001b[0;32m    523\u001b[0m         \u001b[38;5;124mf\u001b[39m\u001b[38;5;124m\"\u001b[39m\u001b[38;5;124minstead of the unversioned environment `\u001b[39m\u001b[38;5;132;01m{\u001b[39;00menv_name\u001b[38;5;132;01m}\u001b[39;00m\u001b[38;5;124m`.\u001b[39m\u001b[38;5;124m\"\u001b[39m\n\u001b[0;32m    524\u001b[0m     )\n\u001b[0;32m    526\u001b[0m \u001b[38;5;28;01mif\u001b[39;00m env_spec \u001b[38;5;129;01mis\u001b[39;00m \u001b[38;5;28;01mNone\u001b[39;00m:\n\u001b[1;32m--> 527\u001b[0m     \u001b[43m_check_version_exists\u001b[49m\u001b[43m(\u001b[49m\u001b[43mns\u001b[49m\u001b[43m,\u001b[49m\u001b[43m \u001b[49m\u001b[43mname\u001b[49m\u001b[43m,\u001b[49m\u001b[43m \u001b[49m\u001b[43mversion\u001b[49m\u001b[43m)\u001b[49m\n\u001b[0;32m    528\u001b[0m     \u001b[38;5;28;01mraise\u001b[39;00m error\u001b[38;5;241m.\u001b[39mError(\n\u001b[0;32m    529\u001b[0m         \u001b[38;5;124mf\u001b[39m\u001b[38;5;124m\"\u001b[39m\u001b[38;5;124mNo registered env with id: \u001b[39m\u001b[38;5;132;01m{\u001b[39;00menv_name\u001b[38;5;132;01m}\u001b[39;00m\u001b[38;5;124m. Did you register it, or import the package that registers it? Use `gymnasium.pprint_registry()` to see all of the registered environments.\u001b[39m\u001b[38;5;124m\"\u001b[39m\n\u001b[0;32m    530\u001b[0m     )\n\u001b[0;32m    532\u001b[0m \u001b[38;5;28;01mreturn\u001b[39;00m env_spec\n",
      "File \u001b[1;32mc:\\Users\\jasmi\\miniconda3\\envs\\MyoSuite\\lib\\site-packages\\gymnasium\\envs\\registration.py:393\u001b[0m, in \u001b[0;36m_check_version_exists\u001b[1;34m(ns, name, version)\u001b[0m\n\u001b[0;32m    390\u001b[0m \u001b[38;5;28;01mif\u001b[39;00m get_env_id(ns, name, version) \u001b[38;5;129;01min\u001b[39;00m registry:\n\u001b[0;32m    391\u001b[0m     \u001b[38;5;28;01mreturn\u001b[39;00m\n\u001b[1;32m--> 393\u001b[0m \u001b[43m_check_name_exists\u001b[49m\u001b[43m(\u001b[49m\u001b[43mns\u001b[49m\u001b[43m,\u001b[49m\u001b[43m \u001b[49m\u001b[43mname\u001b[49m\u001b[43m)\u001b[49m\n\u001b[0;32m    394\u001b[0m \u001b[38;5;28;01mif\u001b[39;00m version \u001b[38;5;129;01mis\u001b[39;00m \u001b[38;5;28;01mNone\u001b[39;00m:\n\u001b[0;32m    395\u001b[0m     \u001b[38;5;28;01mreturn\u001b[39;00m\n",
      "File \u001b[1;32mc:\\Users\\jasmi\\miniconda3\\envs\\MyoSuite\\lib\\site-packages\\gymnasium\\envs\\registration.py:370\u001b[0m, in \u001b[0;36m_check_name_exists\u001b[1;34m(ns, name)\u001b[0m\n\u001b[0;32m    367\u001b[0m namespace_msg \u001b[38;5;241m=\u001b[39m \u001b[38;5;124mf\u001b[39m\u001b[38;5;124m\"\u001b[39m\u001b[38;5;124m in namespace \u001b[39m\u001b[38;5;132;01m{\u001b[39;00mns\u001b[38;5;132;01m}\u001b[39;00m\u001b[38;5;124m\"\u001b[39m \u001b[38;5;28;01mif\u001b[39;00m ns \u001b[38;5;28;01melse\u001b[39;00m \u001b[38;5;124m\"\u001b[39m\u001b[38;5;124m\"\u001b[39m\n\u001b[0;32m    368\u001b[0m suggestion_msg \u001b[38;5;241m=\u001b[39m \u001b[38;5;124mf\u001b[39m\u001b[38;5;124m\"\u001b[39m\u001b[38;5;124m Did you mean: `\u001b[39m\u001b[38;5;132;01m{\u001b[39;00msuggestion[\u001b[38;5;241m0\u001b[39m]\u001b[38;5;132;01m}\u001b[39;00m\u001b[38;5;124m`?\u001b[39m\u001b[38;5;124m\"\u001b[39m \u001b[38;5;28;01mif\u001b[39;00m suggestion \u001b[38;5;28;01melse\u001b[39;00m \u001b[38;5;124m\"\u001b[39m\u001b[38;5;124m\"\u001b[39m\n\u001b[1;32m--> 370\u001b[0m \u001b[38;5;28;01mraise\u001b[39;00m error\u001b[38;5;241m.\u001b[39mNameNotFound(\n\u001b[0;32m    371\u001b[0m     \u001b[38;5;124mf\u001b[39m\u001b[38;5;124m\"\u001b[39m\u001b[38;5;124mEnvironment `\u001b[39m\u001b[38;5;132;01m{\u001b[39;00mname\u001b[38;5;132;01m}\u001b[39;00m\u001b[38;5;124m` doesn\u001b[39m\u001b[38;5;124m'\u001b[39m\u001b[38;5;124mt exist\u001b[39m\u001b[38;5;132;01m{\u001b[39;00mnamespace_msg\u001b[38;5;132;01m}\u001b[39;00m\u001b[38;5;124m.\u001b[39m\u001b[38;5;132;01m{\u001b[39;00msuggestion_msg\u001b[38;5;132;01m}\u001b[39;00m\u001b[38;5;124m\"\u001b[39m\n\u001b[0;32m    372\u001b[0m )\n",
      "\u001b[1;31mNameNotFound\u001b[0m: Environment `myoHandWheelHoldFixed` doesn't exist. Did you mean: `myoHandObjHoldFixed`?"
     ]
    }
   ],
   "source": [
    "env = gym.make('myoHandWheelHoldFixed-v0')\n",
    "print('List of cameras available', [env.sim.model.camera(i).name for i in range(env.sim.model.ncam)])\n",
    "env.reset()\n",
    "frames = []\n",
    "for _ in range(100):\n",
    "    frame = env.sim.renderer.render_offscreen(\n",
    "                        width=400,\n",
    "                        height=400,\n",
    "                        camera_id=0)\n",
    "    frames.append(frame)\n",
    "    env.step(env.action_space.sample()) # take a random action\n",
    "env.close()\n",
    "\n",
    "os.makedirs('videos', exist_ok=True)\n",
    "# make a local copy\n",
    "skvideo.io.vwrite('videos/temp.mp4', np.asarray(frames),outputdict={\"-pix_fmt\": \"yuv420p\"})\n",
    "\n",
    "# show in the notebook\n",
    "show_video('videos/temp.mp4')"
   ]
  },
  {
   "cell_type": "code",
   "execution_count": null,
   "metadata": {},
   "outputs": [],
   "source": [
    "import matplotlib.pyplot as plt\n",
    "plt.imshow(frame)"
   ]
  }
 ],
 "metadata": {
  "kernelspec": {
   "display_name": "MyoSuite",
   "language": "python",
   "name": "python3"
  },
  "language_info": {
   "codemirror_mode": {
    "name": "ipython",
    "version": 3
   },
   "file_extension": ".py",
   "mimetype": "text/x-python",
   "name": "python",
   "nbconvert_exporter": "python",
   "pygments_lexer": "ipython3",
   "version": "3.8.20"
  }
 },
 "nbformat": 4,
 "nbformat_minor": 4
}
